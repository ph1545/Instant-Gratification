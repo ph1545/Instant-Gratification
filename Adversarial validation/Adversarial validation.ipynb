{
 "cells": [
  {
   "cell_type": "code",
   "execution_count": 31,
   "metadata": {},
   "outputs": [],
   "source": [
    "#basic\n",
    "import numpy as np, pandas as pd\n",
    "from sklearn.model_selection import StratifiedKFold\n",
    "from sklearn.metrics import roc_auc_score\n",
    "from tqdm import tqdm_notebook\n",
    "from sklearn.decomposition import PCA\n",
    "#Pretreatment\n",
    "from sklearn.preprocessing import StandardScaler, PolynomialFeatures\n",
    "from sklearn.feature_selection import VarianceThreshold\n",
    "#model\n",
    "import lightgbm as lgb\n",
    "from sklearn.discriminant_analysis import QuadraticDiscriminantAnalysis\n",
    "from sklearn import svm, neighbors, linear_model, neural_network\n",
    "from sklearn.linear_model import LogisticRegression\n",
    "from sklearn.svm import SVC\n",
    "from sklearn.svm import NuSVC\n",
    "from xgboost import XGBClassifier\n",
    "from lightgbm import LGBMClassifier\n",
    "from sklearn.gaussian_process import GaussianProcessClassifier\n",
    "from sklearn.naive_bayes import MultinomialNB, GaussianNB, BernoulliNB\n",
    "from sklearn.ensemble import RandomForestClassifier\n",
    "import warnings\n",
    "warnings.filterwarnings('ignore')"
   ]
  },
  {
   "cell_type": "code",
   "execution_count": 25,
   "metadata": {},
   "outputs": [],
   "source": [
    "train = pd.read_csv('train.csv')\n",
    "test = pd.read_csv('test.csv')"
   ]
  },
  {
   "cell_type": "code",
   "execution_count": 26,
   "metadata": {},
   "outputs": [],
   "source": [
    "features = [c for c in train.columns if c not in ['id', 'target']]\n",
    "train['target']=1\n",
    "test['target']=0\n",
    "data = pd.concat([train,test], axis=0)"
   ]
  },
  {
   "cell_type": "code",
   "execution_count": 27,
   "metadata": {},
   "outputs": [],
   "source": [
    "lgb_params = {\n",
    "    'metric': 'auc',\n",
    "    'verbose': 1,\n",
    "    'learning_rate': 0.05,\n",
    "    'num_leaves': 31,\n",
    "    \"seed\": 42\n",
    "}"
   ]
  },
  {
   "cell_type": "code",
   "execution_count": 32,
   "metadata": {},
   "outputs": [
    {
     "name": "stdout",
     "output_type": "stream",
     "text": [
      "Training until validation scores don't improve for 100 rounds.\n",
      "[50]\tvalid_0's auc: 0.499601\n",
      "[100]\tvalid_0's auc: 0.498945\n",
      "Did not meet early stopping. Best iteration is:\n",
      "[3]\tvalid_0's auc: 0.50079\n",
      "Training until validation scores don't improve for 100 rounds.\n",
      "[50]\tvalid_0's auc: 0.495285\n",
      "[100]\tvalid_0's auc: 0.497333\n",
      "Did not meet early stopping. Best iteration is:\n",
      "[4]\tvalid_0's auc: 0.50247\n",
      "Training until validation scores don't improve for 100 rounds.\n",
      "[50]\tvalid_0's auc: 0.500114\n",
      "[100]\tvalid_0's auc: 0.499871\n",
      "Did not meet early stopping. Best iteration is:\n",
      "[26]\tvalid_0's auc: 0.503064\n",
      "Training until validation scores don't improve for 100 rounds.\n",
      "[50]\tvalid_0's auc: 0.497789\n",
      "[100]\tvalid_0's auc: 0.497222\n",
      "Did not meet early stopping. Best iteration is:\n",
      "[28]\tvalid_0's auc: 0.500756\n",
      "Training until validation scores don't improve for 100 rounds.\n",
      "[50]\tvalid_0's auc: 0.495796\n",
      "[100]\tvalid_0's auc: 0.494027\n",
      "Did not meet early stopping. Best iteration is:\n",
      "[1]\tvalid_0's auc: 0.499819\n"
     ]
    }
   ],
   "source": [
    "skf = StratifiedKFold(n_splits=5, shuffle=True, random_state= 42)\n",
    "oof = np.zeros(len(data))\n",
    "val_aucs = []\n",
    "for fold, (trn_idx, val_idx) in enumerate(skf.split(data, data['target'])):\n",
    "    X_train, y_train = data.iloc[trn_idx][features], data.iloc[trn_idx]['target']\n",
    "    X_valid, y_valid = data.iloc[val_idx][features], data.iloc[val_idx]['target']\n",
    "    trn_data = lgb.Dataset(X_train, label=y_train)\n",
    "    val_data = lgb.Dataset(X_valid, label=y_valid)\n",
    "    evals_result = {}\n",
    "    lgb_clf = lgb.train(lgb_params,\n",
    "                        trn_data,\n",
    "                        valid_sets=[val_data],\n",
    "                        early_stopping_rounds=100,\n",
    "                        verbose_eval=50,\n",
    "                        evals_result=evals_result)\n",
    "\n",
    "    p_valid = lgb_clf.predict(X_valid[features], num_iteration=lgb_clf.best_iteration)\n",
    "\n",
    "    oof[val_idx] = p_valid\n",
    "    val_score = roc_auc_score(y_valid, p_valid)\n",
    "    val_aucs.append(val_score)"
   ]
  },
  {
   "cell_type": "code",
   "execution_count": 39,
   "metadata": {},
   "outputs": [
    {
     "name": "stdout",
     "output_type": "stream",
     "text": [
      "평균 ACU : 0.501\n",
      "전체 ACU : 0.501\n"
     ]
    }
   ],
   "source": [
    "print(\"평균 ACU :\",np.round(np.mean(val_aucs),3))\n",
    "print(\"전체 ACU :\",np.round( roc_auc_score(data['target'], oof),3))"
   ]
  },
  {
   "cell_type": "markdown",
   "metadata": {},
   "source": [
    "# 결론\n",
    "- 훈련데이터와 테스트데이터는 같은 분포에서 나왔다"
   ]
  }
 ],
 "metadata": {
  "kernelspec": {
   "display_name": "Python 3",
   "language": "python",
   "name": "python3"
  },
  "language_info": {
   "codemirror_mode": {
    "name": "ipython",
    "version": 3
   },
   "file_extension": ".py",
   "mimetype": "text/x-python",
   "name": "python",
   "nbconvert_exporter": "python",
   "pygments_lexer": "ipython3",
   "version": "3.7.1"
  },
  "varInspector": {
   "cols": {
    "lenName": 16,
    "lenType": 16,
    "lenVar": 40
   },
   "kernels_config": {
    "python": {
     "delete_cmd_postfix": "",
     "delete_cmd_prefix": "del ",
     "library": "var_list.py",
     "varRefreshCmd": "print(var_dic_list())"
    },
    "r": {
     "delete_cmd_postfix": ") ",
     "delete_cmd_prefix": "rm(",
     "library": "var_list.r",
     "varRefreshCmd": "cat(var_dic_list()) "
    }
   },
   "types_to_exclude": [
    "module",
    "function",
    "builtin_function_or_method",
    "instance",
    "_Feature"
   ],
   "window_display": false
  }
 },
 "nbformat": 4,
 "nbformat_minor": 2
}
