{
 "cells": [
  {
   "cell_type": "code",
   "execution_count": 8,
   "metadata": {},
   "outputs": [],
   "source": [
    "#basic\n",
    "import numpy as np, pandas as pd\n",
    "import seaborn as sns\n",
    "import matplotlib.pyplot as plt\n",
    "import warnings\n",
    "from scipy import stats"
   ]
  },
  {
   "cell_type": "code",
   "execution_count": 3,
   "metadata": {},
   "outputs": [],
   "source": [
    "train = pd.read_csv('train.csv')\n",
    "test = pd.read_csv('test.csv')"
   ]
  },
  {
   "cell_type": "code",
   "execution_count": 31,
   "metadata": {},
   "outputs": [
    {
     "name": "stderr",
     "output_type": "stream",
     "text": [
      "C:\\Users\\user\\Anaconda3\\lib\\site-packages\\scipy\\stats\\stats.py:1713: FutureWarning: Using a non-tuple sequence for multidimensional indexing is deprecated; use `arr[tuple(seq)]` instead of `arr[seq]`. In the future this will be interpreted as an array index, `arr[np.array(seq)]`, which will result either in an error or a different result.\n",
      "  return np.add.reduce(sorted[indexer] * weights, axis=axis) / sumval\n"
     ]
    },
    {
     "data": {
      "image/png": "[encoded data removed]",
      "text/plain": [
       "<Figure size 432x288 with 1 Axes>"
      ]
     },
     "metadata": {
      "needs_background": "light"
     },
     "output_type": "display_data"
    }
   ],
   "source": [
    "sns.distplot(train['muggy-smalt-axolotl-pembus'])\n",
    "plt.show()"
   ]
  },
  {
   "cell_type": "code",
   "execution_count": 32,
   "metadata": {},
   "outputs": [
    {
     "data": {
      "image/png": "[encoded data removed]",
      "text/plain": [
       "<Figure size 432x288 with 1 Axes>"
      ]
     },
     "metadata": {
      "needs_background": "light"
     },
     "output_type": "display_data"
    }
   ],
   "source": [
    "stats.probplot(train['muggy-smalt-axolotl-pembus'], plot=plt)\n",
    "plt.show()"
   ]
  },
  {
   "cell_type": "code",
   "execution_count": 26,
   "metadata": {},
   "outputs": [],
   "source": [
    "train1 = train[train['wheezy-copper-turtle-magic']==1]"
   ]
  },
  {
   "cell_type": "code",
   "execution_count": 27,
   "metadata": {},
   "outputs": [
    {
     "data": {
      "text/html": [
       "<div>\n",
       "<style scoped>\n",
       "    .dataframe tbody tr th:only-of-type {\n",
       "        vertical-align: middle;\n",
       "    }\n",
       "\n",
       "    .dataframe tbody tr th {\n",
       "        vertical-align: top;\n",
       "    }\n",
       "\n",
       "    .dataframe thead th {\n",
       "        text-align: right;\n",
       "    }\n",
       "</style>\n",
       "<table border=\"1\" class=\"dataframe\">\n",
       "  <thead>\n",
       "    <tr style=\"text-align: right;\">\n",
       "      <th></th>\n",
       "      <th>id</th>\n",
       "      <th>muggy-smalt-axolotl-pembus</th>\n",
       "      <th>dorky-peach-sheepdog-ordinal</th>\n",
       "      <th>slimy-seashell-cassowary-goose</th>\n",
       "      <th>snazzy-harlequin-chicken-distraction</th>\n",
       "      <th>frumpy-smalt-mau-ordinal</th>\n",
       "      <th>stealthy-beige-pinscher-golden</th>\n",
       "      <th>chummy-cream-tarantula-entropy</th>\n",
       "      <th>hazy-emerald-cuttlefish-unsorted</th>\n",
       "      <th>nerdy-indigo-wolfhound-sorted</th>\n",
       "      <th>...</th>\n",
       "      <th>wheezy-myrtle-mandrill-entropy</th>\n",
       "      <th>wiggy-lilac-lemming-sorted</th>\n",
       "      <th>gloppy-cerise-snail-contributor</th>\n",
       "      <th>woozy-silver-havanese-gaussian</th>\n",
       "      <th>jumpy-thistle-discus-sorted</th>\n",
       "      <th>muggy-turquoise-donkey-important</th>\n",
       "      <th>blurry-buff-hyena-entropy</th>\n",
       "      <th>bluesy-chocolate-kudu-fepid</th>\n",
       "      <th>gamy-white-monster-expert</th>\n",
       "      <th>target</th>\n",
       "    </tr>\n",
       "  </thead>\n",
       "  <tbody>\n",
       "    <tr>\n",
       "      <th>550</th>\n",
       "      <td>4d1b3f7fff691e39bc3bf0bebaf76eab</td>\n",
       "      <td>-0.652685</td>\n",
       "      <td>-0.320448</td>\n",
       "      <td>-0.990136</td>\n",
       "      <td>0.123433</td>\n",
       "      <td>0.872434</td>\n",
       "      <td>-0.976576</td>\n",
       "      <td>0.986943</td>\n",
       "      <td>-0.654385</td>\n",
       "      <td>0.731564</td>\n",
       "      <td>...</td>\n",
       "      <td>-0.751551</td>\n",
       "      <td>2.214634</td>\n",
       "      <td>0.036100</td>\n",
       "      <td>0.559592</td>\n",
       "      <td>-0.196727</td>\n",
       "      <td>-0.045499</td>\n",
       "      <td>-0.875327</td>\n",
       "      <td>0.949601</td>\n",
       "      <td>0.532729</td>\n",
       "      <td>1</td>\n",
       "    </tr>\n",
       "    <tr>\n",
       "      <th>793</th>\n",
       "      <td>98a8077588b7544a04931dad6ba353e9</td>\n",
       "      <td>1.100477</td>\n",
       "      <td>0.146391</td>\n",
       "      <td>0.548201</td>\n",
       "      <td>-0.743063</td>\n",
       "      <td>-0.776455</td>\n",
       "      <td>0.784679</td>\n",
       "      <td>2.884915</td>\n",
       "      <td>4.547408</td>\n",
       "      <td>-1.348984</td>\n",
       "      <td>...</td>\n",
       "      <td>0.127049</td>\n",
       "      <td>-0.591817</td>\n",
       "      <td>-0.694301</td>\n",
       "      <td>-0.356082</td>\n",
       "      <td>-0.689719</td>\n",
       "      <td>-0.164489</td>\n",
       "      <td>0.595378</td>\n",
       "      <td>-0.020808</td>\n",
       "      <td>0.527682</td>\n",
       "      <td>0</td>\n",
       "    </tr>\n",
       "    <tr>\n",
       "      <th>1218</th>\n",
       "      <td>ffe5a67090871f16d50d157c8218597e</td>\n",
       "      <td>1.603370</td>\n",
       "      <td>1.622184</td>\n",
       "      <td>-1.537069</td>\n",
       "      <td>-0.232444</td>\n",
       "      <td>-0.123593</td>\n",
       "      <td>1.186707</td>\n",
       "      <td>-0.748651</td>\n",
       "      <td>4.826237</td>\n",
       "      <td>-2.024633</td>\n",
       "      <td>...</td>\n",
       "      <td>1.463451</td>\n",
       "      <td>0.308423</td>\n",
       "      <td>-1.266921</td>\n",
       "      <td>-1.025875</td>\n",
       "      <td>-0.894283</td>\n",
       "      <td>-1.959455</td>\n",
       "      <td>-0.355648</td>\n",
       "      <td>0.903022</td>\n",
       "      <td>1.032162</td>\n",
       "      <td>0</td>\n",
       "    </tr>\n",
       "    <tr>\n",
       "      <th>1276</th>\n",
       "      <td>f2ded623eac31b8dda979e08c1f36d2e</td>\n",
       "      <td>-2.773063</td>\n",
       "      <td>-1.316827</td>\n",
       "      <td>1.019951</td>\n",
       "      <td>-0.155688</td>\n",
       "      <td>0.262493</td>\n",
       "      <td>0.118541</td>\n",
       "      <td>-0.536831</td>\n",
       "      <td>1.759811</td>\n",
       "      <td>1.169555</td>\n",
       "      <td>...</td>\n",
       "      <td>-0.013601</td>\n",
       "      <td>0.455910</td>\n",
       "      <td>0.700794</td>\n",
       "      <td>-1.073916</td>\n",
       "      <td>-0.359614</td>\n",
       "      <td>0.141195</td>\n",
       "      <td>1.320309</td>\n",
       "      <td>-0.146764</td>\n",
       "      <td>-0.568746</td>\n",
       "      <td>1</td>\n",
       "    </tr>\n",
       "    <tr>\n",
       "      <th>1300</th>\n",
       "      <td>dcb128ab55bbe055bdecc7d6b63774ea</td>\n",
       "      <td>-2.013425</td>\n",
       "      <td>-0.805431</td>\n",
       "      <td>-0.294763</td>\n",
       "      <td>1.629098</td>\n",
       "      <td>-0.013835</td>\n",
       "      <td>0.075623</td>\n",
       "      <td>0.304643</td>\n",
       "      <td>0.027752</td>\n",
       "      <td>-0.959656</td>\n",
       "      <td>...</td>\n",
       "      <td>0.279145</td>\n",
       "      <td>0.675924</td>\n",
       "      <td>-0.492643</td>\n",
       "      <td>0.476203</td>\n",
       "      <td>-0.996044</td>\n",
       "      <td>1.399797</td>\n",
       "      <td>-0.157206</td>\n",
       "      <td>0.015506</td>\n",
       "      <td>1.122774</td>\n",
       "      <td>1</td>\n",
       "    </tr>\n",
       "  </tbody>\n",
       "</table>\n",
       "<p>5 rows × 258 columns</p>\n",
       "</div>"
      ],
      "text/plain": [
       "                                    id  muggy-smalt-axolotl-pembus  \\\n",
       "550   4d1b3f7fff691e39bc3bf0bebaf76eab                   -0.652685   \n",
       "793   98a8077588b7544a04931dad6ba353e9                    1.100477   \n",
       "1218  ffe5a67090871f16d50d157c8218597e                    1.603370   \n",
       "1276  f2ded623eac31b8dda979e08c1f36d2e                   -2.773063   \n",
       "1300  dcb128ab55bbe055bdecc7d6b63774ea                   -2.013425   \n",
       "\n",
       "      dorky-peach-sheepdog-ordinal  slimy-seashell-cassowary-goose  \\\n",
       "550                      -0.320448                       -0.990136   \n",
       "793                       0.146391                        0.548201   \n",
       "1218                      1.622184                       -1.537069   \n",
       "1276                     -1.316827                        1.019951   \n",
       "1300                     -0.805431                       -0.294763   \n",
       "\n",
       "      snazzy-harlequin-chicken-distraction  frumpy-smalt-mau-ordinal  \\\n",
       "550                               0.123433                  0.872434   \n",
       "793                              -0.743063                 -0.776455   \n",
       "1218                             -0.232444                 -0.123593   \n",
       "1276                             -0.155688                  0.262493   \n",
       "1300                              1.629098                 -0.013835   \n",
       "\n",
       "      stealthy-beige-pinscher-golden  chummy-cream-tarantula-entropy  \\\n",
       "550                        -0.976576                        0.986943   \n",
       "793                         0.784679                        2.884915   \n",
       "1218                        1.186707                       -0.748651   \n",
       "1276                        0.118541                       -0.536831   \n",
       "1300                        0.075623                        0.304643   \n",
       "\n",
       "      hazy-emerald-cuttlefish-unsorted  nerdy-indigo-wolfhound-sorted   ...    \\\n",
       "550                          -0.654385                       0.731564   ...     \n",
       "793                           4.547408                      -1.348984   ...     \n",
       "1218                          4.826237                      -2.024633   ...     \n",
       "1276                          1.759811                       1.169555   ...     \n",
       "1300                          0.027752                      -0.959656   ...     \n",
       "\n",
       "      wheezy-myrtle-mandrill-entropy  wiggy-lilac-lemming-sorted  \\\n",
       "550                        -0.751551                    2.214634   \n",
       "793                         0.127049                   -0.591817   \n",
       "1218                        1.463451                    0.308423   \n",
       "1276                       -0.013601                    0.455910   \n",
       "1300                        0.279145                    0.675924   \n",
       "\n",
       "      gloppy-cerise-snail-contributor  woozy-silver-havanese-gaussian  \\\n",
       "550                          0.036100                        0.559592   \n",
       "793                         -0.694301                       -0.356082   \n",
       "1218                        -1.266921                       -1.025875   \n",
       "1276                         0.700794                       -1.073916   \n",
       "1300                        -0.492643                        0.476203   \n",
       "\n",
       "      jumpy-thistle-discus-sorted  muggy-turquoise-donkey-important  \\\n",
       "550                     -0.196727                         -0.045499   \n",
       "793                     -0.689719                         -0.164489   \n",
       "1218                    -0.894283                         -1.959455   \n",
       "1276                    -0.359614                          0.141195   \n",
       "1300                    -0.996044                          1.399797   \n",
       "\n",
       "      blurry-buff-hyena-entropy  bluesy-chocolate-kudu-fepid  \\\n",
       "550                   -0.875327                     0.949601   \n",
       "793                    0.595378                    -0.020808   \n",
       "1218                  -0.355648                     0.903022   \n",
       "1276                   1.320309                    -0.146764   \n",
       "1300                  -0.157206                     0.015506   \n",
       "\n",
       "      gamy-white-monster-expert  target  \n",
       "550                    0.532729       1  \n",
       "793                    0.527682       0  \n",
       "1218                   1.032162       0  \n",
       "1276                  -0.568746       1  \n",
       "1300                   1.122774       1  \n",
       "\n",
       "[5 rows x 258 columns]"
      ]
     },
     "execution_count": 27,
     "metadata": {},
     "output_type": "execute_result"
    }
   ],
   "source": [
    "train1.head()"
   ]
  },
  {
   "cell_type": "code",
   "execution_count": 33,
   "metadata": {},
   "outputs": [
    {
     "data": {
      "image/png": "[encoded data removed]",
      "text/plain": [
       "<Figure size 432x288 with 1 Axes>"
      ]
     },
     "metadata": {
      "needs_background": "light"
     },
     "output_type": "display_data"
    }
   ],
   "source": [
    "sns.distplot(train1['muggy-smalt-axolotl-pembus'])\n",
    "plt.show()"
   ]
  },
  {
   "cell_type": "code",
   "execution_count": 34,
   "metadata": {},
   "outputs": [
    {
     "data": {
      "image/png": "[encoded data removed]",
      "text/plain": [
       "<Figure size 432x288 with 1 Axes>"
      ]
     },
     "metadata": {
      "needs_background": "light"
     },
     "output_type": "display_data"
    }
   ],
   "source": [
    "stats.probplot(train1['muggy-smalt-axolotl-pembus'], plot=plt)\n",
    "plt.show()"
   ]
  }
 ],
 "metadata": {
  "kernelspec": {
   "display_name": "Python 3",
   "language": "python",
   "name": "python3"
  },
  "language_info": {
   "codemirror_mode": {
    "name": "ipython",
    "version": 3
   },
   "file_extension": ".py",
   "mimetype": "text/x-python",
   "name": "python",
   "nbconvert_exporter": "python",
   "pygments_lexer": "ipython3",
   "version": "3.7.1"
  },
  "varInspector": {
   "cols": {
    "lenName": 16,
    "lenType": 16,
    "lenVar": 40
   },
   "kernels_config": {
    "python": {
     "delete_cmd_postfix": "",
     "delete_cmd_prefix": "del ",
     "library": "var_list.py",
     "varRefreshCmd": "print(var_dic_list())"
    },
    "r": {
     "delete_cmd_postfix": ") ",
     "delete_cmd_prefix": "rm(",
     "library": "var_list.r",
     "varRefreshCmd": "cat(var_dic_list()) "
    }
   },
   "types_to_exclude": [
    "module",
    "function",
    "builtin_function_or_method",
    "instance",
    "_Feature"
   ],
   "window_display": false
  }
 },
 "nbformat": 4,
 "nbformat_minor": 2
}
