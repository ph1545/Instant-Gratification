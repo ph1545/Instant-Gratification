{
 "cells": [
  {
   "cell_type": "code",
   "execution_count": 1,
   "metadata": {},
   "outputs": [],
   "source": [
    "#basic\n",
    "import numpy as np, pandas as pd\n",
    "from sklearn.model_selection import StratifiedKFold\n",
    "from sklearn.metrics import roc_auc_score\n",
    "from tqdm import tqdm_notebook\n",
    "from sklearn.decomposition import PCA\n",
    "#Pretreatment\n",
    "from sklearn.preprocessing import StandardScaler, PolynomialFeatures,Normalizer\n",
    "from sklearn.feature_selection import VarianceThreshold\n",
    "#model\n",
    "from sklearn.discriminant_analysis import QuadraticDiscriminantAnalysis\n",
    "from sklearn import svm, neighbors, linear_model, neural_network\n",
    "from sklearn.linear_model import LogisticRegression\n",
    "from sklearn.svm import SVC,NuSVC\n",
    "from xgboost import XGBClassifier\n",
    "from lightgbm import LGBMClassifier\n",
    "from sklearn.gaussian_process import GaussianProcessClassifier\n",
    "from sklearn.naive_bayes import MultinomialNB, GaussianNB, BernoulliNB\n",
    "from sklearn.ensemble import RandomForestClassifier\n",
    "import warnings\n",
    "warnings.filterwarnings('ignore')\n",
    "import seaborn as sns\n",
    "import matplotlib.pyplot as plt\n",
    "import warnings"
   ]
  },
  {
   "cell_type": "code",
   "execution_count": 2,
   "metadata": {},
   "outputs": [],
   "source": [
    "train = pd.read_csv('train.csv')\n",
    "test = pd.read_csv('test.csv')"
   ]
  },
  {
   "cell_type": "code",
   "execution_count": 3,
   "metadata": {},
   "outputs": [
    {
     "data": {
      "application/vnd.jupyter.widget-view+json": {
       "model_id": "f8aaf6d8710d40eb85fe24f4468b6972",
       "version_major": 2,
       "version_minor": 0
      },
      "text/plain": [
       "HBox(children=(IntProgress(value=0, max=512), HTML(value='')))"
      ]
     },
     "metadata": {},
     "output_type": "display_data"
    },
    {
     "name": "stdout",
     "output_type": "stream",
     "text": [
      "\n",
      "QDA scores CV 0.9648973416075834\n"
     ]
    }
   ],
   "source": [
    "cols = [c for c in train.columns if c not in ['id', 'target','wheezy-copper-turtle-magic']]\n",
    "oof_qda = np.zeros(len(train)) \n",
    "pred_qda = np.zeros(len(test))\n",
    "\n",
    "for i in tqdm_notebook(range(512)):\n",
    "    train1 = train[train['wheezy-copper-turtle-magic']==i]\n",
    "    test1 = test[test['wheezy-copper-turtle-magic']==i]\n",
    "    idx1 = train1.index; idx2 = test1.index\n",
    "    train1.reset_index(drop=True,inplace=True)\n",
    "    \n",
    "    data = pd.concat([pd.DataFrame(train1[cols]), pd.DataFrame(test1[cols])])\n",
    "    data2 =VarianceThreshold(threshold=1.5).fit_transform(data[cols])\n",
    "    train2 = data2[:train1.shape[0]]; test2 = data2[train1.shape[0]:]\n",
    "    \n",
    "    \n",
    "    #oof\n",
    "    skf = StratifiedKFold(n_splits=11, random_state=42)\n",
    "    for train_index, test_index in skf.split(train1, train1['target']):\n",
    "\n",
    "        clf = QuadraticDiscriminantAnalysis(0.1)\n",
    "        clf.fit(train2[train_index,:],train1.loc[train_index]['target'])\n",
    "        oof_qda[idx1[test_index]] = clf.predict_proba(train2[test_index,:])[:,1]\n",
    "        pred_qda[idx2] += clf.predict_proba(test2)[:,1] / skf.n_splits\n",
    "                \n",
    "       \n",
    "        \n",
    "print('QDA scores CV', roc_auc_score(train['target'], oof_qda))"
   ]
  },
  {
   "cell_type": "code",
   "execution_count": 4,
   "metadata": {},
   "outputs": [
    {
     "data": {
      "application/vnd.jupyter.widget-view+json": {
       "model_id": "ede809e86d124e29806c76ef105a1c32",
       "version_major": 2,
       "version_minor": 0
      },
      "text/plain": [
       "HBox(children=(IntProgress(value=0, max=512), HTML(value='')))"
      ]
     },
     "metadata": {},
     "output_type": "display_data"
    },
    {
     "name": "stdout",
     "output_type": "stream",
     "text": [
      "\n",
      "Pseudo Labeled QDA scores CV = 0.97024\n"
     ]
    }
   ],
   "source": [
    "# test예측값 할당\n",
    "test['target'] = pred_qda\n",
    "\n",
    "oof_qda_pl = np.zeros(len(train)) \n",
    "pred_qda_pl = np.zeros(len(test))\n",
    "\n",
    "for i in tqdm_notebook(range(512)):\n",
    "    train1 = train[train['wheezy-copper-turtle-magic']==i]\n",
    "    train_pl = train1.copy()\n",
    "    test1 = test[test['wheezy-copper-turtle-magic']==i]\n",
    "    idx1 = train1.index; idx2 = test1.index\n",
    "    \n",
    "    #pseudo labeling\n",
    "    test_pl = test1[(test1['target']>0.99) | (test1['target']<0.01)].copy()\n",
    "    test_pl.loc[ test_pl['target']>=0.5, 'target' ] = 1\n",
    "    test_pl.loc[ test_pl['target']< 0.5, 'target' ] = 0 \n",
    "    train_pl2 =  pd.concat([train_pl,test_pl],axis=0)\n",
    "    train_pl2.reset_index(drop=True,inplace=True)\n",
    "    \n",
    "    useful = VarianceThreshold(threshold=1.5).fit(train_pl2[cols])     \n",
    "    train_pl3 = useful.transform(train_pl2[cols])\n",
    "    train2 = useful.transform(train1[cols])\n",
    "    test2 = useful.transform(test1[cols])\n",
    "    \n",
    "    #oof\n",
    "    skf = StratifiedKFold(n_splits=11, random_state=42,shuffle=True)\n",
    "    for train_index, test_index in skf.split(train_pl3, train_pl2['target']):\n",
    "        \n",
    "        #pseudo label을 무시하는 코드 중요!!\n",
    "        # 처음 StratifiedKFold로 분할할 때 shuffle=True옵션을 안넣어줘 계속 오류발생\n",
    "        test_index3 = test_index[ test_index<len(train2) ]\n",
    "        \n",
    "        clf = QuadraticDiscriminantAnalysis(0.1)\n",
    "        clf.fit(train_pl3[train_index,:],train_pl2.loc[train_index]['target'])\n",
    "        oof_qda_pl[idx1[test_index3]] = clf.predict_proba(train2[test_index3,:])[:,1]\n",
    "        pred_qda_pl[idx2] += clf.predict_proba(test2)[:,1] / skf.n_splits\n",
    "                \n",
    "       \n",
    "     \n",
    "print('Pseudo Labeled QDA scores CV =',round(roc_auc_score(train['target'],oof_qda_pl),5))\n",
    "    "
   ]
  }
 ],
 "metadata": {
  "kernelspec": {
   "display_name": "Python 3",
   "language": "python",
   "name": "python3"
  },
  "language_info": {
   "codemirror_mode": {
    "name": "ipython",
    "version": 3
   },
   "file_extension": ".py",
   "mimetype": "text/x-python",
   "name": "python",
   "nbconvert_exporter": "python",
   "pygments_lexer": "ipython3",
   "version": "3.7.1"
  },
  "varInspector": {
   "cols": {
    "lenName": 16,
    "lenType": 16,
    "lenVar": 40
   },
   "kernels_config": {
    "python": {
     "delete_cmd_postfix": "",
     "delete_cmd_prefix": "del ",
     "library": "var_list.py",
     "varRefreshCmd": "print(var_dic_list())"
    },
    "r": {
     "delete_cmd_postfix": ") ",
     "delete_cmd_prefix": "rm(",
     "library": "var_list.r",
     "varRefreshCmd": "cat(var_dic_list()) "
    }
   },
   "types_to_exclude": [
    "module",
    "function",
    "builtin_function_or_method",
    "instance",
    "_Feature"
   ],
   "window_display": false
  }
 },
 "nbformat": 4,
 "nbformat_minor": 2
}
