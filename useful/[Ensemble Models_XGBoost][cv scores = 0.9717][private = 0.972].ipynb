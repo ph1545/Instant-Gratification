{
 "cells": [
  {
   "cell_type": "code",
   "execution_count": 13,
   "metadata": {
    "_cell_guid": "79c7e3d0-c299-4dcb-8224-4455121ee9b0",
    "_uuid": "d629ff2d2480ee46fbb7e2d37f6b5fab8052498a"
   },
   "outputs": [],
   "source": [
    "#basic\n",
    "import numpy as np, pandas as pd\n",
    "from sklearn.model_selection import StratifiedKFold\n",
    "from sklearn.metrics import roc_auc_score\n",
    "from tqdm import tqdm_notebook\n",
    "from sklearn.decomposition import PCA\n",
    "#Pretreatment\n",
    "from sklearn.preprocessing import StandardScaler, PolynomialFeatures\n",
    "from sklearn.feature_selection import VarianceThreshold\n",
    "#model\n",
    "from sklearn.discriminant_analysis import QuadraticDiscriminantAnalysis\n",
    "from sklearn import svm, neighbors, linear_model, neural_network\n",
    "from sklearn.linear_model import LogisticRegression\n",
    "from sklearn.svm import SVC\n",
    "from sklearn.svm import NuSVC\n",
    "from xgboost import XGBClassifier\n",
    "from lightgbm import LGBMClassifier\n",
    "from sklearn.covariance import GraphicalLasso\n",
    "from sklearn.mixture import GaussianMixture\n",
    "from sklearn.gaussian_process import GaussianProcessClassifier\n",
    "from sklearn.naive_bayes import MultinomialNB, GaussianNB, BernoulliNB\n",
    "from sklearn.ensemble import RandomForestClassifier\n",
    "from sklearn.pipeline import Pipeline\n",
    "import warnings\n",
    "warnings.filterwarnings('ignore')"
   ]
  },
  {
   "cell_type": "code",
   "execution_count": 3,
   "metadata": {},
   "outputs": [],
   "source": [
    "def get_mean_cov(x,y):\n",
    "    model = GraphicalLasso()\n",
    "    ones = (y==1).astype(bool)\n",
    "    x2 = x[ones]\n",
    "    model.fit(x2)\n",
    "    p1 = model.precision_\n",
    "    m1 = model.location_\n",
    "    \n",
    "    onesb = (y==0).astype(bool)\n",
    "    x2b = x[onesb]\n",
    "    model.fit(x2b)\n",
    "    p2 = model.precision_\n",
    "    m2 = model.location_\n",
    "    \n",
    "    ms = np.stack([m1,m2])\n",
    "    ps = np.stack([p1,p2])\n",
    "    return ms,ps"
   ]
  },
  {
   "cell_type": "code",
   "execution_count": null,
   "metadata": {},
   "outputs": [],
   "source": [
    "train = pd.read_csv('train.csv')\n",
    "test = pd.read_csv('test.csv')"
   ]
  },
  {
   "cell_type": "code",
   "execution_count": 15,
   "metadata": {},
   "outputs": [
    {
     "data": {
      "application/vnd.jupyter.widget-view+json": {
       "model_id": "93ce2edc51164039a91935f772deab9b",
       "version_major": 2,
       "version_minor": 0
      },
      "text/plain": [
       "HBox(children=(IntProgress(value=0, max=512), HTML(value='')))"
      ]
     },
     "metadata": {},
     "output_type": "display_data"
    },
    {
     "name": "stdout",
     "output_type": "stream",
     "text": [
      "QDA scores CV = 0.96878\n"
     ]
    }
   ],
   "source": [
    "# INITIALIZE VARIABLES\n",
    "cols = [c for c in train.columns if c not in ['id', 'target']]\n",
    "cols.remove('wheezy-copper-turtle-magic')\n",
    "oof_gm = np.zeros(len(train))\n",
    "preds_gm = np.zeros(len(test))\n",
    "\n",
    "# BUILD 512 SEPARATE MODELS\n",
    "for i in tqdm_notebook(range(512)):\n",
    "    # ONLY TRAIN WITH DATA WHERE WHEEZY EQUALS I\n",
    "    train2 = train[train['wheezy-copper-turtle-magic']==i]\n",
    "    test2 = test[test['wheezy-copper-turtle-magic']==i]\n",
    "    idx1 = train2.index; idx2 = test2.index\n",
    "    train2.reset_index(drop=True,inplace=True)\n",
    "    \n",
    "    # FEATURE SELECTION (USE APPROX 40 OF 255 FEATURES)\n",
    "    sel = VarianceThreshold(threshold=1.5).fit(train2[cols])\n",
    "    train3 = sel.transform(train2[cols])\n",
    "    test3 = sel.transform(test2[cols])\n",
    "    \n",
    "    # STRATIFIED K-FOLD\n",
    "    skf = StratifiedKFold(n_splits=11, random_state=42, shuffle=True)\n",
    "    for train_index, test_index in skf.split(train3, train2['target']):\n",
    "        \n",
    "        # MODEL AND PREDICT WITH QDA\n",
    "        ms, ps = get_mean_cov(train3[train_index,:],train2.loc[train_index]['target'].values)\n",
    "        \n",
    "        gm = GaussianMixture(n_components=2, init_params='random', covariance_type='full', tol=0.001,reg_covar=0.001, max_iter=100, n_init=1,means_init=ms, precisions_init=ps)\n",
    "        gm.fit(np.concatenate([train3[train_index,:],test3],axis = 0))\n",
    "        oof_gm[idx1[test_index]] = gm.predict_proba(train3[test_index,:])[:,0]\n",
    "        preds_gm[idx2] += gm.predict_proba(test3)[:,0] / skf.n_splits\n",
    "\n",
    "        \n",
    "# PRINT CV AUC\n",
    "auc = roc_auc_score(train['target'],oof_gm)\n",
    "print('QDA scores CV =',round(auc,5))"
   ]
  },
  {
   "cell_type": "code",
   "execution_count": 21,
   "metadata": {},
   "outputs": [
    {
     "data": {
      "application/vnd.jupyter.widget-view+json": {
       "model_id": "912e8169d2da46bbbdb1ef3a669f59ac",
       "version_major": 2,
       "version_minor": 0
      },
      "text/plain": [
       "HBox(children=(IntProgress(value=0, max=512), HTML(value='')))"
      ]
     },
     "metadata": {},
     "output_type": "display_data"
    },
    {
     "name": "stdout",
     "output_type": "stream",
     "text": [
      "svc 0.9506446727431673\n",
      "svcnu 0.9602912865680392\n"
     ]
    }
   ],
   "source": [
    "cols = [c for c in train.columns if c not in ['id', 'target', 'wheezy-copper-turtle-magic']]\n",
    "oof_svnu = np.zeros(len(train)) \n",
    "pred_te_svnu = np.zeros(len(test))\n",
    "\n",
    "oof_svc = np.zeros(len(train)) \n",
    "pred_te_svc = np.zeros(len(test))\n",
    "\n",
    "for i in tqdm_notebook(range(512)):\n",
    "    train2 = train[train['wheezy-copper-turtle-magic']==i]\n",
    "    test2 = test[test['wheezy-copper-turtle-magic']==i]\n",
    "    idx1 = train2.index; idx2 = test2.index\n",
    "    train2.reset_index(drop=True,inplace=True)\n",
    "\n",
    "    data = pd.concat([pd.DataFrame(train2[cols]), pd.DataFrame(test2[cols])])\n",
    "    data2 = StandardScaler().fit_transform(PCA(svd_solver='full',n_components='mle').fit_transform(data[cols]))\n",
    "    train3 = data2[:train2.shape[0]]; test3 = data2[train2.shape[0]:]\n",
    "    \n",
    "    # STRATIFIED K FOLD (Using splits=25 scores 0.002 better but is slower)\n",
    "    skf = StratifiedKFold(n_splits=5, random_state=42)\n",
    "    for train_index, test_index in skf.split(train2, train2['target']):\n",
    "\n",
    "        clf = NuSVC(probability=True, kernel='poly', degree=4, gamma='auto', random_state=4, nu=0.59, coef0=0.053)\n",
    "        clf.fit(train3[train_index,:],train2.loc[train_index]['target'])\n",
    "        oof_svnu[idx1[test_index]] = clf.predict_proba(train3[test_index,:])[:,1]\n",
    "        pred_te_svnu[idx2] += clf.predict_proba(test3)[:,1] / skf.n_splits\n",
    "                \n",
    "        clf = svm.SVC(probability=True, kernel='poly', degree=4, gamma='auto', random_state=42)\n",
    "        clf.fit(train3[train_index,:],train2.loc[train_index]['target'])\n",
    "        oof_svc[idx1[test_index]] = clf.predict_proba(train3[test_index,:])[:,1]\n",
    "        pred_te_svc[idx2] += clf.predict_proba(test3)[:,1] / skf.n_splits\n",
    "        \n",
    "        \n",
    "print('svc', roc_auc_score(train['target'], oof_svc))\n",
    "print('svcnu', roc_auc_score(train['target'], oof_svnu))"
   ]
  },
  {
   "cell_type": "code",
   "execution_count": 16,
   "metadata": {},
   "outputs": [
    {
     "data": {
      "application/vnd.jupyter.widget-view+json": {
       "model_id": "b08f211edbc74ca0b998f34db079d37d",
       "version_major": 2,
       "version_minor": 0
      },
      "text/plain": [
       "HBox(children=(IntProgress(value=0, max=512), HTML(value='')))"
      ]
     },
     "metadata": {},
     "output_type": "display_data"
    },
    {
     "name": "stdout",
     "output_type": "stream",
     "text": [
      "QDA scores CV 0.9648973416075834\n"
     ]
    },
    {
     "data": {
      "application/vnd.jupyter.widget-view+json": {
       "model_id": "adabc32d4c074c5db47df206e0ed04b4",
       "version_major": 2,
       "version_minor": 0
      },
      "text/plain": [
       "HBox(children=(IntProgress(value=0, max=512), HTML(value='')))"
      ]
     },
     "metadata": {},
     "output_type": "display_data"
    },
    {
     "name": "stdout",
     "output_type": "stream",
     "text": [
      "Pseudo Labeled QDA scores CV = 0.97024\n"
     ]
    }
   ],
   "source": [
    "cols = [c for c in train.columns if c not in ['id', 'target','wheezy-copper-turtle-magic']]\n",
    "oof_qda = np.zeros(len(train)) \n",
    "pred_qda = np.zeros(len(test))\n",
    "\n",
    "for i in tqdm_notebook(range(512)):\n",
    "    train1 = train[train['wheezy-copper-turtle-magic']==i]\n",
    "    test1 = test[test['wheezy-copper-turtle-magic']==i]\n",
    "    idx1 = train1.index; idx2 = test1.index\n",
    "    train1.reset_index(drop=True,inplace=True)\n",
    "    \n",
    "    data = pd.concat([pd.DataFrame(train1[cols]), pd.DataFrame(test1[cols])])\n",
    "    data2 =VarianceThreshold(threshold=1.5).fit_transform(data[cols])\n",
    "    train2 = data2[:train1.shape[0]]; test2 = data2[train1.shape[0]:]\n",
    "    \n",
    "    \n",
    "    #oof\n",
    "    skf = StratifiedKFold(n_splits=11, random_state=42)\n",
    "    for train_index, test_index in skf.split(train1, train1['target']):\n",
    "\n",
    "        clf = QuadraticDiscriminantAnalysis(0.1)\n",
    "        clf.fit(train2[train_index,:],train1.loc[train_index]['target'])\n",
    "        oof_qda[idx1[test_index]] = clf.predict_proba(train2[test_index,:])[:,1]\n",
    "        pred_qda[idx2] += clf.predict_proba(test2)[:,1] / skf.n_splits\n",
    "                \n",
    "       \n",
    "        \n",
    "print('QDA scores CV', roc_auc_score(train['target'], oof_qda))\n",
    "# test예측값 할당\n",
    "test['target'] = pred_qda\n",
    "\n",
    "oof_qda_pl = np.zeros(len(train)) \n",
    "pred_qda_pl = np.zeros(len(test))\n",
    "\n",
    "for i in tqdm_notebook(range(512)):\n",
    "    train1 = train[train['wheezy-copper-turtle-magic']==i]\n",
    "    train_pl = train1.copy()\n",
    "    test1 = test[test['wheezy-copper-turtle-magic']==i]\n",
    "    idx1 = train1.index; idx2 = test1.index\n",
    "    \n",
    "    #pseudo labeling\n",
    "    test_pl = test1[(test1['target']>0.99) | (test1['target']<0.01)].copy()\n",
    "    test_pl.loc[ test_pl['target']>=0.5, 'target' ] = 1\n",
    "    test_pl.loc[ test_pl['target']< 0.5, 'target' ] = 0 \n",
    "    train_pl2 =  pd.concat([train_pl,test_pl],axis=0)\n",
    "    train_pl2.reset_index(drop=True,inplace=True)\n",
    "    \n",
    "    useful = VarianceThreshold(threshold=1.5).fit(train_pl2[cols])     \n",
    "    train_pl3 = useful.transform(train_pl2[cols])\n",
    "    train2 = useful.transform(train1[cols])\n",
    "    test2 = useful.transform(test1[cols])\n",
    "    \n",
    "    #oof\n",
    "    skf = StratifiedKFold(n_splits=11, random_state=42,shuffle=True)\n",
    "    for train_index, test_index in skf.split(train_pl3, train_pl2['target']):\n",
    "        \n",
    "        #pseudo label을 무시하는 코드 중요!!\n",
    "        # 처음 StratifiedKFold로 분할할 때 shuffle=True옵션을 안넣어줘 계속 오류발생\n",
    "        test_index3 = test_index[ test_index<len(train2) ]\n",
    "        \n",
    "        clf = QuadraticDiscriminantAnalysis(0.1)\n",
    "        clf.fit(train_pl3[train_index,:],train_pl2.loc[train_index]['target'])\n",
    "        oof_qda_pl[idx1[test_index3]] = clf.predict_proba(train2[test_index3,:])[:,1]\n",
    "        pred_qda_pl[idx2] += clf.predict_proba(test2)[:,1] / skf.n_splits\n",
    "                \n",
    "       \n",
    "     \n",
    "print('Pseudo Labeled QDA scores CV =',round(roc_auc_score(train['target'],oof_qda_pl),5))"
   ]
  },
  {
   "cell_type": "code",
   "execution_count": 22,
   "metadata": {},
   "outputs": [
    {
     "name": "stdout",
     "output_type": "stream",
     "text": [
      "(262144, 4) (131073, 4)\n"
     ]
    }
   ],
   "source": [
    "oof_svnu = oof_svnu.reshape(-1, 1)\n",
    "pred_te_svnu = pred_te_svnu.reshape(-1, 1)\n",
    "oof_svc = oof_svc.reshape(-1, 1)\n",
    "pred_te_svc = pred_te_svc.reshape(-1, 1)\n",
    "oof_qda_pl = oof_qda_pl.reshape(-1, 1)\n",
    "pred_qda_pl = pred_qda_pl.reshape(-1, 1)\n",
    "oof_gm = oof_gm.reshape(-1, 1)\n",
    "pred_te_gm=preds_gm.reshape(-1, 1)\n",
    "\n",
    "tr = np.concatenate((oof_svnu, oof_svc, oof_qda_pl,oof_gm), axis=1)\n",
    "te = np.concatenate((pred_te_svnu, pred_te_svc,  pred_qda_pl,pred_te_gm), axis=1)\n",
    "print(tr.shape, te.shape)"
   ]
  },
  {
   "cell_type": "code",
   "execution_count": 23,
   "metadata": {},
   "outputs": [
    {
     "name": "stdout",
     "output_type": "stream",
     "text": [
      "stack CV score = 0.971757\n"
     ]
    }
   ],
   "source": [
    "from xgboost import XGBClassifier\n",
    "\n",
    "\n",
    "oof_xgb = np.zeros(len(train)) \n",
    "pred_te_xgb = np.zeros(len(test))\n",
    "skf = StratifiedKFold(n_splits=5, random_state=42)\n",
    "\n",
    "for train_index, test_index in skf.split(tr, train['target']):\n",
    "    # lrr = svm.NuSVC(probability=True, kernel='poly', degree=2, gamma='auto', random_state=42, nu=0.6, coef0=0.6) \n",
    "    lrr = XGBClassifier() # solver='liblinear',penalty='l1',C=0.1\n",
    "    lrr.fit(tr[train_index], train['target'][train_index])\n",
    "    oof_xgb[test_index] = lrr.predict_proba(tr[test_index,:])[:,1]\n",
    "    pred_te_xgb += lrr.predict_proba(te)[:,1] / skf.n_splits\n",
    "    \n",
    "print('stack CV score =',round(roc_auc_score(train['target'],oof_xgb),6))"
   ]
  }
 ],
 "metadata": {
  "kernelspec": {
   "display_name": "Python 3",
   "language": "python",
   "name": "python3"
  },
  "language_info": {
   "codemirror_mode": {
    "name": "ipython",
    "version": 3
   },
   "file_extension": ".py",
   "mimetype": "text/x-python",
   "name": "python",
   "nbconvert_exporter": "python",
   "pygments_lexer": "ipython3",
   "version": "3.7.1"
  },
  "varInspector": {
   "cols": {
    "lenName": 16,
    "lenType": 16,
    "lenVar": 40
   },
   "kernels_config": {
    "python": {
     "delete_cmd_postfix": "",
     "delete_cmd_prefix": "del ",
     "library": "var_list.py",
     "varRefreshCmd": "print(var_dic_list())"
    },
    "r": {
     "delete_cmd_postfix": ") ",
     "delete_cmd_prefix": "rm(",
     "library": "var_list.r",
     "varRefreshCmd": "cat(var_dic_list()) "
    }
   },
   "types_to_exclude": [
    "module",
    "function",
    "builtin_function_or_method",
    "instance",
    "_Feature"
   ],
   "window_display": false
  }
 },
 "nbformat": 4,
 "nbformat_minor": 1
}
