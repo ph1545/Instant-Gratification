{
 "cells": [
  {
   "cell_type": "code",
   "execution_count": 106,
   "metadata": {},
   "outputs": [],
   "source": [
    "import numpy as np, pandas as pd\n",
    "from sklearn.model_selection import StratifiedKFold\n",
    "from sklearn.metrics import roc_auc_score\n",
    "from sklearn.preprocessing import StandardScaler\n",
    "from sklearn.feature_selection import VarianceThreshold\n",
    "from sklearn.discriminant_analysis import QuadraticDiscriminantAnalysis\n",
    "from tqdm import tqdm_notebook\n",
    "from sklearn.metrics import roc_auc_score\n",
    "from sklearn import svm, neighbors, linear_model, neural_network\n",
    "from sklearn.svm import NuSVC\n",
    "from sklearn.decomposition import PCA\n",
    "from xgboost import XGBClassifier\n",
    "from lightgbm import LGBMClassifier\n",
    "from sklearn.gaussian_process import GaussianProcessClassifier\n",
    "from sklearn.naive_bayes import MultinomialNB, GaussianNB, BernoulliNB\n",
    "from sklearn.ensemble import RandomForestClassifier\n",
    "import warnings\n",
    "warnings.filterwarnings('ignore')"
   ]
  },
  {
   "cell_type": "code",
   "execution_count": 3,
   "metadata": {},
   "outputs": [],
   "source": [
    "train = pd.read_csv('train.csv')\n",
    "test = pd.read_csv('test.csv')\n",
    "\n",
    "oof_svnu = np.zeros(len(train)) \n",
    "pred_te_svnu = np.zeros(len(test))\n",
    "\n",
    "oof_svc = np.zeros(len(train)) \n",
    "pred_te_svc = np.zeros(len(test))\n",
    "\n",
    "oof_knn = np.zeros(len(train)) \n",
    "pred_te_knn = np.zeros(len(test))\n",
    "\n",
    "oof_lr = np.zeros(len(train)) \n",
    "pred_te_lr = np.zeros(len(test))\n",
    "\n",
    "oof_mlp = np.zeros(len(train)) \n",
    "pred_te_mlp = np.zeros(len(test))\n",
    "\n",
    "cols = [c for c in train.columns if c not in ['id', 'target', 'wheezy-copper-turtle-magic']]"
   ]
  },
  {
   "cell_type": "code",
   "execution_count": 4,
   "metadata": {},
   "outputs": [
    {
     "data": {
      "application/vnd.jupyter.widget-view+json": {
       "model_id": "83f98073310e4cfcaf1e0114409775a9",
       "version_major": 2,
       "version_minor": 0
      },
      "text/plain": [
       "HBox(children=(IntProgress(value=0, max=512), HTML(value='')))"
      ]
     },
     "metadata": {},
     "output_type": "display_data"
    },
    {
     "name": "stdout",
     "output_type": "stream",
     "text": [
      "\n",
      "lr 0.791705068371104\n",
      "knn 0.9024616443766853\n",
      "svc 0.9506446727431673\n",
      "svcnu 0.9602912865680392\n",
      "mlp 0.9083505476573632\n"
     ]
    }
   ],
   "source": [
    "for i in tqdm_notebook(range(512)):\n",
    "    train2 = train[train['wheezy-copper-turtle-magic']==i]\n",
    "    test2 = test[test['wheezy-copper-turtle-magic']==i]\n",
    "    idx1 = train2.index; idx2 = test2.index\n",
    "    train2.reset_index(drop=True,inplace=True)\n",
    "\n",
    "    data = pd.concat([pd.DataFrame(train2[cols]), pd.DataFrame(test2[cols])])\n",
    "    data2 = StandardScaler().fit_transform(PCA(svd_solver='full',n_components='mle').fit_transform(data[cols]))\n",
    "    train3 = data2[:train2.shape[0]]; test3 = data2[train2.shape[0]:]\n",
    "    \n",
    "    # STRATIFIED K FOLD (Using splits=25 scores 0.002 better but is slower)\n",
    "    skf = StratifiedKFold(n_splits=5, random_state=42)\n",
    "    for train_index, test_index in skf.split(train2, train2['target']):\n",
    "\n",
    "        clf = NuSVC(probability=True, kernel='poly', degree=4, gamma='auto', random_state=4, nu=0.59, coef0=0.053)\n",
    "        clf.fit(train3[train_index,:],train2.loc[train_index]['target'])\n",
    "        oof_svnu[idx1[test_index]] = clf.predict_proba(train3[test_index,:])[:,1]\n",
    "        pred_te_svnu[idx2] += clf.predict_proba(test3)[:,1] / skf.n_splits\n",
    "        \n",
    "        clf = neighbors.KNeighborsClassifier(n_neighbors=17, p=2.9)\n",
    "        clf.fit(train3[train_index,:],train2.loc[train_index]['target'])\n",
    "        oof_knn[idx1[test_index]] = clf.predict_proba(train3[test_index,:])[:,1]\n",
    "        pred_te_knn[idx2] += clf.predict_proba(test3)[:,1] / skf.n_splits\n",
    "        \n",
    "        clf = linear_model.LogisticRegression(solver='saga',penalty='l1',C=0.1)\n",
    "        clf.fit(train3[train_index,:],train2.loc[train_index]['target'])\n",
    "        oof_lr[idx1[test_index]] = clf.predict_proba(train3[test_index,:])[:,1]\n",
    "        pred_te_lr[idx2] += clf.predict_proba(test3)[:,1] / skf.n_splits\n",
    "        \n",
    "        clf = neural_network.MLPClassifier(random_state=3,  activation='relu', solver='lbfgs', tol=1e-06, hidden_layer_sizes=(250, ))\n",
    "        clf.fit(train3[train_index,:],train2.loc[train_index]['target'])\n",
    "        oof_mlp[idx1[test_index]] = clf.predict_proba(train3[test_index,:])[:,1]\n",
    "        pred_te_mlp[idx2] += clf.predict_proba(test3)[:,1] / skf.n_splits\n",
    "        \n",
    "        clf = svm.SVC(probability=True, kernel='poly', degree=4, gamma='auto', random_state=42)\n",
    "        clf.fit(train3[train_index,:],train2.loc[train_index]['target'])\n",
    "        oof_svc[idx1[test_index]] = clf.predict_proba(train3[test_index,:])[:,1]\n",
    "        pred_te_svc[idx2] += clf.predict_proba(test3)[:,1] / skf.n_splits\n",
    "        \n",
    "        \n",
    "print('lr', roc_auc_score(train['target'], oof_lr))\n",
    "print('knn', roc_auc_score(train['target'], oof_knn))\n",
    "print('svc', roc_auc_score(train['target'], oof_svc))\n",
    "print('svcnu', roc_auc_score(train['target'], oof_svnu))\n",
    "print('mlp', roc_auc_score(train['target'], oof_mlp))"
   ]
  },
  {
   "cell_type": "code",
   "execution_count": 5,
   "metadata": {},
   "outputs": [],
   "source": [
    "train = pd.read_csv('train.csv')\n",
    "test = pd.read_csv('test.csv')\n",
    "\n",
    "cols = [c for c in train.columns if c not in ['id', 'target', 'wheezy-copper-turtle-magic']]"
   ]
  },
  {
   "cell_type": "code",
   "execution_count": 51,
   "metadata": {
    "scrolled": true
   },
   "outputs": [
    {
     "data": {
      "application/vnd.jupyter.widget-view+json": {
       "model_id": "3d2e0d2bce7d40b482c1c32d82458bae",
       "version_major": 2,
       "version_minor": 0
      },
      "text/plain": [
       "HBox(children=(IntProgress(value=0, max=512), HTML(value='')))"
      ]
     },
     "metadata": {},
     "output_type": "display_data"
    },
    {
     "name": "stdout",
     "output_type": "stream",
     "text": [
      "\n",
      "AUC: 0.96591\n"
     ]
    }
   ],
   "source": [
    "oof = np.zeros(len(train))\n",
    "preds = np.zeros(len(test))\n",
    "\n",
    "for i in tqdm_notebook(range(512)):\n",
    "\n",
    "    train2 = train[train['wheezy-copper-turtle-magic']==i]\n",
    "    test2 = test[test['wheezy-copper-turtle-magic']==i]\n",
    "    idx1 = train2.index; idx2 = test2.index\n",
    "    train2.reset_index(drop=True,inplace=True)\n",
    "\n",
    "    data = pd.concat([pd.DataFrame(train2[cols]), pd.DataFrame(test2[cols])])\n",
    "    data2 = VarianceThreshold(threshold=2).fit_transform(data[cols])\n",
    "\n",
    "    train3 = data2[:train2.shape[0]]; test3 = data2[train2.shape[0]:]\n",
    "\n",
    "    skf = StratifiedKFold(n_splits=25, random_state=42)\n",
    "    for train_index, test_index in skf.split(train2, train2['target']):\n",
    "\n",
    "        clf = QuadraticDiscriminantAnalysis(0.1)\n",
    "        clf.fit(train3[train_index,:],train2.loc[train_index]['target'])\n",
    "        oof[idx1[test_index]] = clf.predict_proba(train3[test_index,:])[:,1]\n",
    "        preds[idx2] += clf.predict_proba(test3)[:,1] / skf.n_splits\n",
    "\n",
    "auc = roc_auc_score(train['target'], oof)\n",
    "print(f'AUC: {auc:.5}')"
   ]
  },
  {
   "cell_type": "code",
   "execution_count": 55,
   "metadata": {},
   "outputs": [],
   "source": [
    "oof_svnu = oof_svnu.reshape(-1, 1)\n",
    "pred_te_svnu = pred_te_svnu.reshape(-1, 1)\n",
    "oof_svc = oof_svc.reshape(-1, 1)\n",
    "pred_te_svc = pred_te_svc.reshape(-1, 1)\n",
    "oof_knn = oof_knn.reshape(-1, 1)\n",
    "pred_te_knn = pred_te_knn.reshape(-1, 1)\n",
    "oof_mlp = oof_mlp.reshape(-1, 1)\n",
    "pred_te_mlp = pred_te_mlp.reshape(-1, 1)\n",
    "oof_lr = oof_lr.reshape(-1, 1)\n",
    "pred_te_lr = pred_te_lr.reshape(-1, 1)\n",
    "oof = oof.reshape(-1, 1)\n",
    "preds = preds.reshape(-1, 1)"
   ]
  },
  {
   "cell_type": "code",
   "execution_count": 112,
   "metadata": {},
   "outputs": [
    {
     "name": "stdout",
     "output_type": "stream",
     "text": [
      "(262144, 5) (131073, 5)\n"
     ]
    }
   ],
   "source": [
    "tr = np.concatenate((oof_svnu, oof_svc, oof_knn, oof_mlp,oof), axis=1)\n",
    "te = np.concatenate((pred_te_svnu, pred_te_svc, pred_te_knn, pred_te_mlp,preds), axis=1)\n",
    "print(tr.shape, te.shape)"
   ]
  },
  {
   "cell_type": "code",
   "execution_count": 111,
   "metadata": {},
   "outputs": [
    {
     "name": "stdout",
     "output_type": "stream",
     "text": [
      "stack CV score = 0.96783\n"
     ]
    }
   ],
   "source": [
    "oof_lrr = np.zeros(len(train)) \n",
    "pred_te_lrr = np.zeros(len(test))\n",
    "skf = StratifiedKFold(n_splits=10, random_state=42)\n",
    "\n",
    "for train_index, test_index in skf.split(tr, train['target']):\n",
    "    lrr = XGBClassifier(learning_rate=0.05, n_estimators=1000,subsample=0.8)\n",
    "    lrr.fit(tr[train_index], train['target'][train_index])\n",
    "    oof_lrr[test_index] = lrr.predict_proba(tr[test_index,:])[:,1]\n",
    "    pred_te_lrr += lrr.predict_proba(te)[:,1] / skf.n_splits\n",
    "    \n",
    "print('stack CV score =',round(roc_auc_score(train['target'],oof_lrr),5))"
   ]
  }
 ],
 "metadata": {
  "kernelspec": {
   "display_name": "Python 3",
   "language": "python",
   "name": "python3"
  },
  "language_info": {
   "codemirror_mode": {
    "name": "ipython",
    "version": 3
   },
   "file_extension": ".py",
   "mimetype": "text/x-python",
   "name": "python",
   "nbconvert_exporter": "python",
   "pygments_lexer": "ipython3",
   "version": "3.7.1"
  },
  "varInspector": {
   "cols": {
    "lenName": 16,
    "lenType": 16,
    "lenVar": 40
   },
   "kernels_config": {
    "python": {
     "delete_cmd_postfix": "",
     "delete_cmd_prefix": "del ",
     "library": "var_list.py",
     "varRefreshCmd": "print(var_dic_list())"
    },
    "r": {
     "delete_cmd_postfix": ") ",
     "delete_cmd_prefix": "rm(",
     "library": "var_list.r",
     "varRefreshCmd": "cat(var_dic_list()) "
    }
   },
   "types_to_exclude": [
    "module",
    "function",
    "builtin_function_or_method",
    "instance",
    "_Feature"
   ],
   "window_display": false
  }
 },
 "nbformat": 4,
 "nbformat_minor": 2
}
